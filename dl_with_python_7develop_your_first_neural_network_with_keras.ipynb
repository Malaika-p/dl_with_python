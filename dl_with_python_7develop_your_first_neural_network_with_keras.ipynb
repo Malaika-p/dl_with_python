{
 "cells": [
  {
   "cell_type": "markdown",
   "metadata": {},
   "source": [
    "# Chapter 7 Develop Your First Neural Network With Keras"
   ]
  },
  {
   "cell_type": "code",
   "execution_count": 1,
   "metadata": {},
   "outputs": [
    {
     "name": "stderr",
     "output_type": "stream",
     "text": [
      "Using TensorFlow backend.\n",
      "/opt/conda/lib/python3.7/site-packages/tensorflow/python/framework/dtypes.py:516: FutureWarning: Passing (type, 1) or '1type' as a synonym of type is deprecated; in a future version of numpy, it will be understood as (type, (1,)) / '(1,)type'.\n",
      "  _np_qint8 = np.dtype([(\"qint8\", np.int8, 1)])\n",
      "/opt/conda/lib/python3.7/site-packages/tensorflow/python/framework/dtypes.py:517: FutureWarning: Passing (type, 1) or '1type' as a synonym of type is deprecated; in a future version of numpy, it will be understood as (type, (1,)) / '(1,)type'.\n",
      "  _np_quint8 = np.dtype([(\"quint8\", np.uint8, 1)])\n",
      "/opt/conda/lib/python3.7/site-packages/tensorflow/python/framework/dtypes.py:518: FutureWarning: Passing (type, 1) or '1type' as a synonym of type is deprecated; in a future version of numpy, it will be understood as (type, (1,)) / '(1,)type'.\n",
      "  _np_qint16 = np.dtype([(\"qint16\", np.int16, 1)])\n",
      "/opt/conda/lib/python3.7/site-packages/tensorflow/python/framework/dtypes.py:519: FutureWarning: Passing (type, 1) or '1type' as a synonym of type is deprecated; in a future version of numpy, it will be understood as (type, (1,)) / '(1,)type'.\n",
      "  _np_quint16 = np.dtype([(\"quint16\", np.uint16, 1)])\n",
      "/opt/conda/lib/python3.7/site-packages/tensorflow/python/framework/dtypes.py:520: FutureWarning: Passing (type, 1) or '1type' as a synonym of type is deprecated; in a future version of numpy, it will be understood as (type, (1,)) / '(1,)type'.\n",
      "  _np_qint32 = np.dtype([(\"qint32\", np.int32, 1)])\n",
      "/opt/conda/lib/python3.7/site-packages/tensorflow/python/framework/dtypes.py:525: FutureWarning: Passing (type, 1) or '1type' as a synonym of type is deprecated; in a future version of numpy, it will be understood as (type, (1,)) / '(1,)type'.\n",
      "  np_resource = np.dtype([(\"resource\", np.ubyte, 1)])\n",
      "/opt/conda/lib/python3.7/site-packages/tensorboard/compat/tensorflow_stub/dtypes.py:541: FutureWarning: Passing (type, 1) or '1type' as a synonym of type is deprecated; in a future version of numpy, it will be understood as (type, (1,)) / '(1,)type'.\n",
      "  _np_qint8 = np.dtype([(\"qint8\", np.int8, 1)])\n",
      "/opt/conda/lib/python3.7/site-packages/tensorboard/compat/tensorflow_stub/dtypes.py:542: FutureWarning: Passing (type, 1) or '1type' as a synonym of type is deprecated; in a future version of numpy, it will be understood as (type, (1,)) / '(1,)type'.\n",
      "  _np_quint8 = np.dtype([(\"quint8\", np.uint8, 1)])\n",
      "/opt/conda/lib/python3.7/site-packages/tensorboard/compat/tensorflow_stub/dtypes.py:543: FutureWarning: Passing (type, 1) or '1type' as a synonym of type is deprecated; in a future version of numpy, it will be understood as (type, (1,)) / '(1,)type'.\n",
      "  _np_qint16 = np.dtype([(\"qint16\", np.int16, 1)])\n",
      "/opt/conda/lib/python3.7/site-packages/tensorboard/compat/tensorflow_stub/dtypes.py:544: FutureWarning: Passing (type, 1) or '1type' as a synonym of type is deprecated; in a future version of numpy, it will be understood as (type, (1,)) / '(1,)type'.\n",
      "  _np_quint16 = np.dtype([(\"quint16\", np.uint16, 1)])\n",
      "/opt/conda/lib/python3.7/site-packages/tensorboard/compat/tensorflow_stub/dtypes.py:545: FutureWarning: Passing (type, 1) or '1type' as a synonym of type is deprecated; in a future version of numpy, it will be understood as (type, (1,)) / '(1,)type'.\n",
      "  _np_qint32 = np.dtype([(\"qint32\", np.int32, 1)])\n",
      "/opt/conda/lib/python3.7/site-packages/tensorboard/compat/tensorflow_stub/dtypes.py:550: FutureWarning: Passing (type, 1) or '1type' as a synonym of type is deprecated; in a future version of numpy, it will be understood as (type, (1,)) / '(1,)type'.\n",
      "  np_resource = np.dtype([(\"resource\", np.ubyte, 1)])\n"
     ]
    }
   ],
   "source": [
    "from keras.models import Sequential\n",
    "from keras.layers import Dense\n",
    "import numpy"
   ]
  },
  {
   "cell_type": "markdown",
   "metadata": {},
   "source": [
    "## 7.1 Tutorial Overview\n",
    "1. Load Data.\n",
    "2. De\f",
    "ne Model.\n",
    "3. Compile Model.\n",
    "4. Fit Model.\n",
    "5. Evaluate Model.\n",
    "6. Tie It All Together."
   ]
  },
  {
   "cell_type": "markdown",
   "metadata": {},
   "source": [
    "## 7.2 Pima Indians Onset of Diabetes Dataset\n",
    "1. Number of times pregnant.\n",
    "2. Plasma glucose concentration a 2 hours in an oral glucose tolerance test.\n",
    "3. Diastolic blood pressure (mm Hg).\n",
    "4. Triceps skin fold thickness (mm).\n",
    "5. 2-Hour serum insulin (mu U/ml).\n",
    "6. Body mass index.\n",
    "7. Diabetes pedigree function.\n",
    "8. Age (years).\n",
    "9. Class, onset of diabetes within \f",
    "ve years."
   ]
  },
  {
   "cell_type": "markdown",
   "metadata": {},
   "source": [
    "## 7.3 Load data\n",
    "### We charge and split ours data \n",
    "* fix random seed for reproducibility\n",
    "* load pima indians dataset\n",
    "* split into input (X) and output (Y) variables\n"
   ]
  },
  {
   "cell_type": "code",
   "execution_count": 2,
   "metadata": {},
   "outputs": [],
   "source": [
    "seed = 7\n",
    "numpy.random.seed(seed)"
   ]
  },
  {
   "cell_type": "code",
   "execution_count": 3,
   "metadata": {
    "scrolled": true
   },
   "outputs": [],
   "source": [
    "dataset = numpy.loadtxt(\"pima-indians-diabetes.csv\", delimiter=\",\")\n",
    "\n",
    "X = dataset[:,0:8]\n",
    "Y = dataset[:,8]"
   ]
  },
  {
   "cell_type": "markdown",
   "metadata": {},
   "source": [
    "## 7.4 Define Model"
   ]
  },
  {
   "cell_type": "markdown",
   "metadata": {},
   "source": [
    "### Fully-connected network structure with three layers.\n",
    "* We create a Sequential model and add layers one at a time\n",
    "* we initialize the network weights to a small random number generated from a uniform distribution (uniform),\n",
    "* We will use the rectifier (relu) activation function on the first two layers and the sigmoid activation function in the output layer.\n",
    "* The first hidden layer has 12 neurons and expects 8 input variables. \n",
    "* The second hidden layer has 8 neurons\n",
    "* finally the output layer has 1 neuron to predict the class (onset of diabetes or not)."
   ]
  },
  {
   "cell_type": "code",
   "execution_count": 4,
   "metadata": {},
   "outputs": [
    {
     "name": "stderr",
     "output_type": "stream",
     "text": [
      "/opt/conda/lib/python3.7/site-packages/ipykernel_launcher.py:2: UserWarning: Update your `Dense` call to the Keras 2 API: `Dense(12, input_dim=8, activation=\"relu\", kernel_initializer=\"uniform\")`\n",
      "  \n",
      "/opt/conda/lib/python3.7/site-packages/ipykernel_launcher.py:3: UserWarning: Update your `Dense` call to the Keras 2 API: `Dense(8, activation=\"relu\", kernel_initializer=\"uniform\")`\n",
      "  This is separate from the ipykernel package so we can avoid doing imports until\n",
      "/opt/conda/lib/python3.7/site-packages/ipykernel_launcher.py:4: UserWarning: Update your `Dense` call to the Keras 2 API: `Dense(1, activation=\"sigmoid\", kernel_initializer=\"uniform\")`\n",
      "  after removing the cwd from sys.path.\n"
     ]
    }
   ],
   "source": [
    "model = Sequential()\n",
    "model.add(Dense(12, input_dim=8, init='uniform', activation='relu'))\n",
    "model.add(Dense(8, init='uniform', activation='relu'))\n",
    "model.add(Dense(1, init='uniform', activation='sigmoid'))"
   ]
  },
  {
   "cell_type": "markdown",
   "metadata": {},
   "source": [
    "## 7.5 Compile Model\n",
    "* Compiling the model uses the efficient numerical libraries under the covers (the so-called backend) such as Theano or TensorFlow.\n",
    "* In this case we will use logarithmic loss, which for a binary classification problem is defined in Keras as binary crossentropy.\n",
    "* We will also use the efficient gradient descent algorithm adam\n",
    "* we will collect and report the classification accuracy as the metric."
   ]
  },
  {
   "cell_type": "code",
   "execution_count": 5,
   "metadata": {},
   "outputs": [
    {
     "name": "stdout",
     "output_type": "stream",
     "text": [
      "WARNING:tensorflow:From /opt/conda/lib/python3.7/site-packages/tensorflow/python/ops/nn_impl.py:180: add_dispatch_support.<locals>.wrapper (from tensorflow.python.ops.array_ops) is deprecated and will be removed in a future version.\n",
      "Instructions for updating:\n",
      "Use tf.where in 2.0, which has the same broadcast rule as np.where\n"
     ]
    }
   ],
   "source": [
    "model.compile(loss='binary_crossentropy', optimizer='adam', metrics=['accuracy'])"
   ]
  },
  {
   "cell_type": "markdown",
   "metadata": {},
   "source": [
    "## 7.6 Fit the Model\n",
    "* The training process will run for a fixed number of iterations through the dataset called epochs, that we must specify using the nb epoch argument.\n",
    "* We also set the number of instances that are evaluated before a weight update in the network is performed called the batch size and set using the batch size argument."
   ]
  },
  {
   "cell_type": "code",
   "execution_count": 6,
   "metadata": {},
   "outputs": [
    {
     "name": "stderr",
     "output_type": "stream",
     "text": [
      "/opt/conda/lib/python3.7/site-packages/ipykernel_launcher.py:1: UserWarning: The `nb_epoch` argument in `fit` has been renamed `epochs`.\n",
      "  \"\"\"Entry point for launching an IPython kernel.\n"
     ]
    },
    {
     "name": "stdout",
     "output_type": "stream",
     "text": [
      "WARNING:tensorflow:From /opt/conda/lib/python3.7/site-packages/keras/backend/tensorflow_backend.py:422: The name tf.global_variables is deprecated. Please use tf.compat.v1.global_variables instead.\n",
      "\n",
      "Epoch 1/150\n",
      "768/768 [==============================] - 0s 329us/step - loss: 0.6773 - accuracy: 0.6510\n",
      "Epoch 2/150\n",
      "768/768 [==============================] - 0s 102us/step - loss: 0.6595 - accuracy: 0.6510\n",
      "Epoch 3/150\n",
      "768/768 [==============================] - 0s 131us/step - loss: 0.6477 - accuracy: 0.6510\n",
      "Epoch 4/150\n",
      "768/768 [==============================] - 0s 118us/step - loss: 0.6396 - accuracy: 0.6510\n",
      "Epoch 5/150\n",
      "768/768 [==============================] - 0s 115us/step - loss: 0.6317 - accuracy: 0.6510\n",
      "Epoch 6/150\n",
      "768/768 [==============================] - 0s 102us/step - loss: 0.6182 - accuracy: 0.6510\n",
      "Epoch 7/150\n",
      "768/768 [==============================] - 0s 103us/step - loss: 0.6180 - accuracy: 0.6510\n",
      "Epoch 8/150\n",
      "768/768 [==============================] - 0s 101us/step - loss: 0.6147 - accuracy: 0.6510\n",
      "Epoch 9/150\n",
      "768/768 [==============================] - 0s 99us/step - loss: 0.6083 - accuracy: 0.6510\n",
      "Epoch 10/150\n",
      "768/768 [==============================] - 0s 97us/step - loss: 0.6164 - accuracy: 0.6510\n",
      "Epoch 11/150\n",
      "768/768 [==============================] - 0s 99us/step - loss: 0.6052 - accuracy: 0.6510\n",
      "Epoch 12/150\n",
      "768/768 [==============================] - 0s 102us/step - loss: 0.6033 - accuracy: 0.6510\n",
      "Epoch 13/150\n",
      "768/768 [==============================] - 0s 100us/step - loss: 0.5998 - accuracy: 0.6510\n",
      "Epoch 14/150\n",
      "768/768 [==============================] - 0s 102us/step - loss: 0.6018 - accuracy: 0.6510\n",
      "Epoch 15/150\n",
      "768/768 [==============================] - 0s 179us/step - loss: 0.5996 - accuracy: 0.6510\n",
      "Epoch 16/150\n",
      "768/768 [==============================] - 0s 104us/step - loss: 0.6022 - accuracy: 0.6510\n",
      "Epoch 17/150\n",
      "768/768 [==============================] - 0s 101us/step - loss: 0.5997 - accuracy: 0.6510\n",
      "Epoch 18/150\n",
      "768/768 [==============================] - 0s 97us/step - loss: 0.6018 - accuracy: 0.6510\n",
      "Epoch 19/150\n",
      "768/768 [==============================] - 0s 102us/step - loss: 0.5978 - accuracy: 0.6510\n",
      "Epoch 20/150\n",
      "768/768 [==============================] - 0s 103us/step - loss: 0.5970 - accuracy: 0.6510\n",
      "Epoch 21/150\n",
      "768/768 [==============================] - 0s 101us/step - loss: 0.5958 - accuracy: 0.6510\n",
      "Epoch 22/150\n",
      "768/768 [==============================] - 0s 100us/step - loss: 0.5928 - accuracy: 0.6510\n",
      "Epoch 23/150\n",
      "768/768 [==============================] - 0s 102us/step - loss: 0.5929 - accuracy: 0.6510\n",
      "Epoch 24/150\n",
      "768/768 [==============================] - 0s 112us/step - loss: 0.5985 - accuracy: 0.6510\n",
      "Epoch 25/150\n",
      "768/768 [==============================] - 0s 106us/step - loss: 0.5943 - accuracy: 0.6510\n",
      "Epoch 26/150\n",
      "768/768 [==============================] - 0s 99us/step - loss: 0.5975 - accuracy: 0.6510\n",
      "Epoch 27/150\n",
      "768/768 [==============================] - 0s 159us/step - loss: 0.5948 - accuracy: 0.6510\n",
      "Epoch 28/150\n",
      "768/768 [==============================] - 0s 102us/step - loss: 0.5876 - accuracy: 0.6510\n",
      "Epoch 29/150\n",
      "768/768 [==============================] - 0s 101us/step - loss: 0.5946 - accuracy: 0.6510\n",
      "Epoch 30/150\n",
      "768/768 [==============================] - 0s 98us/step - loss: 0.5905 - accuracy: 0.6510\n",
      "Epoch 31/150\n",
      "768/768 [==============================] - 0s 97us/step - loss: 0.5892 - accuracy: 0.6510\n",
      "Epoch 32/150\n",
      "768/768 [==============================] - 0s 99us/step - loss: 0.5884 - accuracy: 0.6510\n",
      "Epoch 33/150\n",
      "768/768 [==============================] - 0s 104us/step - loss: 0.5832 - accuracy: 0.6510\n",
      "Epoch 34/150\n",
      "768/768 [==============================] - 0s 103us/step - loss: 0.5893 - accuracy: 0.6510\n",
      "Epoch 35/150\n",
      "768/768 [==============================] - 0s 104us/step - loss: 0.5887 - accuracy: 0.6510\n",
      "Epoch 36/150\n",
      "768/768 [==============================] - 0s 108us/step - loss: 0.5825 - accuracy: 0.6510\n",
      "Epoch 37/150\n",
      "768/768 [==============================] - 0s 101us/step - loss: 0.5811 - accuracy: 0.6510\n",
      "Epoch 38/150\n",
      "768/768 [==============================] - 0s 166us/step - loss: 0.5907 - accuracy: 0.6680\n",
      "Epoch 39/150\n",
      "768/768 [==============================] - 0s 105us/step - loss: 0.5837 - accuracy: 0.6992\n",
      "Epoch 40/150\n",
      "768/768 [==============================] - 0s 103us/step - loss: 0.5844 - accuracy: 0.7057\n",
      "Epoch 41/150\n",
      "768/768 [==============================] - 0s 99us/step - loss: 0.5819 - accuracy: 0.6979\n",
      "Epoch 42/150\n",
      "768/768 [==============================] - 0s 101us/step - loss: 0.5803 - accuracy: 0.7109\n",
      "Epoch 43/150\n",
      "768/768 [==============================] - 0s 101us/step - loss: 0.5786 - accuracy: 0.7057\n",
      "Epoch 44/150\n",
      "768/768 [==============================] - 0s 100us/step - loss: 0.5856 - accuracy: 0.7083\n",
      "Epoch 45/150\n",
      "768/768 [==============================] - 0s 104us/step - loss: 0.5783 - accuracy: 0.7122\n",
      "Epoch 46/150\n",
      "768/768 [==============================] - 0s 103us/step - loss: 0.5763 - accuracy: 0.6979\n",
      "Epoch 47/150\n",
      "768/768 [==============================] - 0s 108us/step - loss: 0.5797 - accuracy: 0.7174\n",
      "Epoch 48/150\n",
      "768/768 [==============================] - 0s 100us/step - loss: 0.5753 - accuracy: 0.7044\n",
      "Epoch 49/150\n",
      "768/768 [==============================] - 0s 98us/step - loss: 0.5737 - accuracy: 0.7083\n",
      "Epoch 50/150\n",
      "768/768 [==============================] - 0s 171us/step - loss: 0.5746 - accuracy: 0.7135\n",
      "Epoch 51/150\n",
      "768/768 [==============================] - 0s 106us/step - loss: 0.5720 - accuracy: 0.7122\n",
      "Epoch 52/150\n",
      "768/768 [==============================] - 0s 107us/step - loss: 0.5725 - accuracy: 0.7109\n",
      "Epoch 53/150\n",
      "768/768 [==============================] - 0s 102us/step - loss: 0.5747 - accuracy: 0.7044\n",
      "Epoch 54/150\n",
      "768/768 [==============================] - 0s 104us/step - loss: 0.5744 - accuracy: 0.7031\n",
      "Epoch 55/150\n",
      "768/768 [==============================] - 0s 115us/step - loss: 0.5730 - accuracy: 0.7096\n",
      "Epoch 56/150\n",
      "768/768 [==============================] - 0s 111us/step - loss: 0.5761 - accuracy: 0.7122\n",
      "Epoch 57/150\n",
      "768/768 [==============================] - 0s 111us/step - loss: 0.5704 - accuracy: 0.7018\n",
      "Epoch 58/150\n",
      "768/768 [==============================] - 0s 108us/step - loss: 0.5745 - accuracy: 0.7044\n",
      "Epoch 59/150\n",
      "768/768 [==============================] - 0s 105us/step - loss: 0.5701 - accuracy: 0.7083\n",
      "Epoch 60/150\n",
      "768/768 [==============================] - 0s 103us/step - loss: 0.5711 - accuracy: 0.7057\n",
      "Epoch 61/150\n",
      "768/768 [==============================] - 0s 174us/step - loss: 0.5678 - accuracy: 0.7083\n",
      "Epoch 62/150\n",
      "768/768 [==============================] - 0s 108us/step - loss: 0.5672 - accuracy: 0.7148\n",
      "Epoch 63/150\n",
      "768/768 [==============================] - 0s 102us/step - loss: 0.5700 - accuracy: 0.6953\n",
      "Epoch 64/150\n",
      "768/768 [==============================] - 0s 106us/step - loss: 0.5694 - accuracy: 0.7083\n",
      "Epoch 65/150\n",
      "768/768 [==============================] - 0s 102us/step - loss: 0.5671 - accuracy: 0.7096\n",
      "Epoch 66/150\n",
      "768/768 [==============================] - 0s 100us/step - loss: 0.5631 - accuracy: 0.7122\n",
      "Epoch 67/150\n",
      "768/768 [==============================] - 0s 105us/step - loss: 0.5621 - accuracy: 0.7096\n",
      "Epoch 68/150\n",
      "768/768 [==============================] - 0s 106us/step - loss: 0.5620 - accuracy: 0.7109\n",
      "Epoch 69/150\n",
      "768/768 [==============================] - 0s 107us/step - loss: 0.5628 - accuracy: 0.7174\n",
      "Epoch 70/150\n",
      "768/768 [==============================] - 0s 108us/step - loss: 0.5652 - accuracy: 0.7174\n",
      "Epoch 71/150\n",
      "768/768 [==============================] - 0s 105us/step - loss: 0.5587 - accuracy: 0.7135\n",
      "Epoch 72/150\n",
      "768/768 [==============================] - 0s 205us/step - loss: 0.5563 - accuracy: 0.7148\n",
      "Epoch 73/150\n",
      "768/768 [==============================] - 0s 150us/step - loss: 0.5574 - accuracy: 0.7122\n",
      "Epoch 74/150\n",
      "768/768 [==============================] - 0s 124us/step - loss: 0.5599 - accuracy: 0.7018\n",
      "Epoch 75/150\n",
      "768/768 [==============================] - 0s 104us/step - loss: 0.5554 - accuracy: 0.7227\n",
      "Epoch 76/150\n",
      "768/768 [==============================] - 0s 109us/step - loss: 0.5553 - accuracy: 0.7227\n",
      "Epoch 77/150\n",
      "768/768 [==============================] - 0s 125us/step - loss: 0.5527 - accuracy: 0.7201\n",
      "Epoch 78/150\n"
     ]
    },
    {
     "name": "stdout",
     "output_type": "stream",
     "text": [
      "768/768 [==============================] - 0s 130us/step - loss: 0.5505 - accuracy: 0.7266\n",
      "Epoch 79/150\n",
      "768/768 [==============================] - 0s 104us/step - loss: 0.5548 - accuracy: 0.7161\n",
      "Epoch 80/150\n",
      "768/768 [==============================] - 0s 99us/step - loss: 0.5514 - accuracy: 0.7122\n",
      "Epoch 81/150\n",
      "768/768 [==============================] - 0s 103us/step - loss: 0.5490 - accuracy: 0.7253\n",
      "Epoch 82/150\n",
      "768/768 [==============================] - 0s 96us/step - loss: 0.5532 - accuracy: 0.7083\n",
      "Epoch 83/150\n",
      "768/768 [==============================] - 0s 177us/step - loss: 0.5508 - accuracy: 0.7044\n",
      "Epoch 84/150\n",
      "768/768 [==============================] - 0s 95us/step - loss: 0.5447 - accuracy: 0.7188\n",
      "Epoch 85/150\n",
      "768/768 [==============================] - 0s 95us/step - loss: 0.5488 - accuracy: 0.7148\n",
      "Epoch 86/150\n",
      "768/768 [==============================] - 0s 98us/step - loss: 0.5504 - accuracy: 0.7227\n",
      "Epoch 87/150\n",
      "768/768 [==============================] - 0s 99us/step - loss: 0.5455 - accuracy: 0.7161\n",
      "Epoch 88/150\n",
      "768/768 [==============================] - 0s 104us/step - loss: 0.5438 - accuracy: 0.7227\n",
      "Epoch 89/150\n",
      "768/768 [==============================] - 0s 96us/step - loss: 0.5593 - accuracy: 0.7227\n",
      "Epoch 90/150\n",
      "768/768 [==============================] - 0s 94us/step - loss: 0.5454 - accuracy: 0.7188\n",
      "Epoch 91/150\n",
      "768/768 [==============================] - 0s 102us/step - loss: 0.5454 - accuracy: 0.7344\n",
      "Epoch 92/150\n",
      "768/768 [==============================] - 0s 100us/step - loss: 0.5418 - accuracy: 0.7227\n",
      "Epoch 93/150\n",
      "768/768 [==============================] - 0s 96us/step - loss: 0.5437 - accuracy: 0.7174\n",
      "Epoch 94/150\n",
      "768/768 [==============================] - 0s 96us/step - loss: 0.5411 - accuracy: 0.7266\n",
      "Epoch 95/150\n",
      "768/768 [==============================] - 0s 191us/step - loss: 0.5376 - accuracy: 0.7266\n",
      "Epoch 96/150\n",
      "768/768 [==============================] - 0s 93us/step - loss: 0.5438 - accuracy: 0.7266\n",
      "Epoch 97/150\n",
      "768/768 [==============================] - 0s 95us/step - loss: 0.5404 - accuracy: 0.7292\n",
      "Epoch 98/150\n",
      "768/768 [==============================] - 0s 99us/step - loss: 0.5346 - accuracy: 0.7253\n",
      "Epoch 99/150\n",
      "768/768 [==============================] - 0s 101us/step - loss: 0.5301 - accuracy: 0.7331\n",
      "Epoch 100/150\n",
      "768/768 [==============================] - 0s 96us/step - loss: 0.5374 - accuracy: 0.7188\n",
      "Epoch 101/150\n",
      "768/768 [==============================] - 0s 99us/step - loss: 0.5304 - accuracy: 0.7344\n",
      "Epoch 102/150\n",
      "768/768 [==============================] - 0s 97us/step - loss: 0.5360 - accuracy: 0.7409\n",
      "Epoch 103/150\n",
      "768/768 [==============================] - 0s 97us/step - loss: 0.5438 - accuracy: 0.7135\n",
      "Epoch 104/150\n",
      "768/768 [==============================] - 0s 96us/step - loss: 0.5382 - accuracy: 0.7357\n",
      "Epoch 105/150\n",
      "768/768 [==============================] - 0s 101us/step - loss: 0.5316 - accuracy: 0.7344\n",
      "Epoch 106/150\n",
      "768/768 [==============================] - 0s 132us/step - loss: 0.5305 - accuracy: 0.7357\n",
      "Epoch 107/150\n",
      "768/768 [==============================] - 0s 162us/step - loss: 0.5340 - accuracy: 0.7396\n",
      "Epoch 108/150\n",
      "768/768 [==============================] - 0s 122us/step - loss: 0.5285 - accuracy: 0.7292\n",
      "Epoch 109/150\n",
      "768/768 [==============================] - 0s 107us/step - loss: 0.5254 - accuracy: 0.7409\n",
      "Epoch 110/150\n",
      "768/768 [==============================] - 0s 116us/step - loss: 0.5211 - accuracy: 0.7435\n",
      "Epoch 111/150\n",
      "768/768 [==============================] - 0s 122us/step - loss: 0.5295 - accuracy: 0.7409\n",
      "Epoch 112/150\n",
      "768/768 [==============================] - 0s 120us/step - loss: 0.5219 - accuracy: 0.7201\n",
      "Epoch 113/150\n",
      "768/768 [==============================] - 0s 125us/step - loss: 0.5168 - accuracy: 0.7383\n",
      "Epoch 114/150\n",
      "768/768 [==============================] - 0s 121us/step - loss: 0.5246 - accuracy: 0.7409\n",
      "Epoch 115/150\n",
      "768/768 [==============================] - 0s 118us/step - loss: 0.5134 - accuracy: 0.7513\n",
      "Epoch 116/150\n",
      "768/768 [==============================] - 0s 123us/step - loss: 0.5167 - accuracy: 0.7396\n",
      "Epoch 117/150\n",
      "768/768 [==============================] - 0s 186us/step - loss: 0.5177 - accuracy: 0.7357\n",
      "Epoch 118/150\n",
      "768/768 [==============================] - 0s 126us/step - loss: 0.5239 - accuracy: 0.7396\n",
      "Epoch 119/150\n",
      "768/768 [==============================] - 0s 114us/step - loss: 0.5093 - accuracy: 0.7448\n",
      "Epoch 120/150\n",
      "768/768 [==============================] - 0s 112us/step - loss: 0.5116 - accuracy: 0.7435\n",
      "Epoch 121/150\n",
      "768/768 [==============================] - 0s 112us/step - loss: 0.5103 - accuracy: 0.7578\n",
      "Epoch 122/150\n",
      "768/768 [==============================] - 0s 107us/step - loss: 0.5114 - accuracy: 0.7396\n",
      "Epoch 123/150\n",
      "768/768 [==============================] - 0s 106us/step - loss: 0.5096 - accuracy: 0.7461\n",
      "Epoch 124/150\n",
      "768/768 [==============================] - 0s 110us/step - loss: 0.5035 - accuracy: 0.7578\n",
      "Epoch 125/150\n",
      "768/768 [==============================] - 0s 105us/step - loss: 0.5062 - accuracy: 0.7487\n",
      "Epoch 126/150\n",
      "768/768 [==============================] - 0s 107us/step - loss: 0.5009 - accuracy: 0.7500\n",
      "Epoch 127/150\n",
      "768/768 [==============================] - 0s 189us/step - loss: 0.5026 - accuracy: 0.7656\n",
      "Epoch 128/150\n",
      "768/768 [==============================] - 0s 113us/step - loss: 0.4972 - accuracy: 0.7604\n",
      "Epoch 129/150\n",
      "768/768 [==============================] - 0s 120us/step - loss: 0.5034 - accuracy: 0.7591\n",
      "Epoch 130/150\n",
      "768/768 [==============================] - 0s 97us/step - loss: 0.4927 - accuracy: 0.7682\n",
      "Epoch 131/150\n",
      "768/768 [==============================] - 0s 158us/step - loss: 0.4968 - accuracy: 0.7500\n",
      "Epoch 132/150\n",
      "768/768 [==============================] - 0s 242us/step - loss: 0.4901 - accuracy: 0.7539\n",
      "Epoch 133/150\n",
      "768/768 [==============================] - 0s 319us/step - loss: 0.4994 - accuracy: 0.7526\n",
      "Epoch 134/150\n",
      "768/768 [==============================] - 0s 501us/step - loss: 0.4924 - accuracy: 0.7591\n",
      "Epoch 135/150\n",
      "768/768 [==============================] - 0s 409us/step - loss: 0.4921 - accuracy: 0.7630\n",
      "Epoch 136/150\n",
      "768/768 [==============================] - 0s 211us/step - loss: 0.4885 - accuracy: 0.7461\n",
      "Epoch 137/150\n",
      "768/768 [==============================] - 0s 121us/step - loss: 0.4902 - accuracy: 0.7591\n",
      "Epoch 138/150\n",
      "768/768 [==============================] - 0s 154us/step - loss: 0.4931 - accuracy: 0.7630\n",
      "Epoch 139/150\n",
      "768/768 [==============================] - 0s 136us/step - loss: 0.4782 - accuracy: 0.7682\n",
      "Epoch 140/150\n",
      "768/768 [==============================] - 0s 114us/step - loss: 0.4826 - accuracy: 0.7604\n",
      "Epoch 141/150\n",
      "768/768 [==============================] - 0s 108us/step - loss: 0.4804 - accuracy: 0.7552\n",
      "Epoch 142/150\n",
      "768/768 [==============================] - 0s 95us/step - loss: 0.4907 - accuracy: 0.7396\n",
      "Epoch 143/150\n",
      "768/768 [==============================] - 0s 100us/step - loss: 0.4745 - accuracy: 0.7708\n",
      "Epoch 144/150\n",
      "768/768 [==============================] - 0s 107us/step - loss: 0.4787 - accuracy: 0.7656\n",
      "Epoch 145/150\n",
      "768/768 [==============================] - 0s 101us/step - loss: 0.4841 - accuracy: 0.7656\n",
      "Epoch 146/150\n",
      "768/768 [==============================] - 0s 103us/step - loss: 0.4827 - accuracy: 0.7708\n",
      "Epoch 147/150\n",
      "768/768 [==============================] - 0s 106us/step - loss: 0.4832 - accuracy: 0.7474\n",
      "Epoch 148/150\n",
      "768/768 [==============================] - 0s 106us/step - loss: 0.4788 - accuracy: 0.7695\n",
      "Epoch 149/150\n",
      "768/768 [==============================] - 0s 102us/step - loss: 0.4787 - accuracy: 0.7604\n",
      "Epoch 150/150\n",
      "768/768 [==============================] - 0s 178us/step - loss: 0.4728 - accuracy: 0.7591\n"
     ]
    },
    {
     "data": {
      "text/plain": [
       "<keras.callbacks.callbacks.History at 0x7fa21c199c88>"
      ]
     },
     "execution_count": 6,
     "metadata": {},
     "output_type": "execute_result"
    }
   ],
   "source": [
    "model.fit(X, Y, nb_epoch=150, batch_size=10)"
   ]
  },
  {
   "cell_type": "markdown",
   "metadata": {},
   "source": [
    "## 7.7 Evaluate the Model"
   ]
  },
  {
   "cell_type": "code",
   "execution_count": 7,
   "metadata": {},
   "outputs": [
    {
     "name": "stdout",
     "output_type": "stream",
     "text": [
      "768/768 [==============================] - 0s 54us/step\n",
      "accuracy: 77.21%\n"
     ]
    }
   ],
   "source": [
    "scores = model.evaluate(X, Y)\n",
    "print(\"%s: %.2f%%\" % (model.metrics_names[1], scores[1]*100))"
   ]
  }
 ],
 "metadata": {
  "kernelspec": {
   "display_name": "Python 3",
   "language": "python",
   "name": "python3"
  },
  "language_info": {
   "codemirror_mode": {
    "name": "ipython",
    "version": 3
   },
   "file_extension": ".py",
   "mimetype": "text/x-python",
   "name": "python",
   "nbconvert_exporter": "python",
   "pygments_lexer": "ipython3",
   "version": "3.7.3"
  }
 },
 "nbformat": 4,
 "nbformat_minor": 2
}
